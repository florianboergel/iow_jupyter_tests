{
 "cells": [
  {
   "cell_type": "code",
   "execution_count": 1,
   "metadata": {},
   "outputs": [
    {
     "name": "stdout",
     "output_type": "stream",
     "text": [
      "/silor/boergel/projects/notebooks\n"
     ]
    }
   ],
   "source": [
    "!pwd"
   ]
  },
  {
   "cell_type": "code",
   "execution_count": 2,
   "metadata": {},
   "outputs": [
    {
     "name": "stdout",
     "output_type": "stream",
     "text": [
      "\n",
      "\tModule for cdo, cdo, version 1.9.8 loaded\n",
      "Contains: cdo.\n"
     ]
    }
   ],
   "source": [
    "!module load cdo"
   ]
  },
  {
   "cell_type": "code",
   "execution_count": 4,
   "metadata": {},
   "outputs": [
    {
     "name": "stdout",
     "output_type": "stream",
     "text": [
      "/sw/data/python/miniconda/OS_42.3/3.7/bin/cdo\n"
     ]
    }
   ],
   "source": [
    "!which cdo"
   ]
  },
  {
   "cell_type": "code",
   "execution_count": 5,
   "metadata": {},
   "outputs": [
    {
     "name": "stdout",
     "output_type": "stream",
     "text": [
      "\n",
      "\tModule for cdo, cdo, version 1.9.8 loaded\n",
      "Contains: cdo.\n",
      "/sw/data/cdo/OS_42.3/1.9.8/bin/cdo\n"
     ]
    }
   ],
   "source": [
    "!module load cdo && which cdo"
   ]
  },
  {
   "cell_type": "markdown",
   "metadata": {},
   "source": [
    "Du siehst es geht über Umwege."
   ]
  },
  {
   "cell_type": "code",
   "execution_count": 3,
   "metadata": {},
   "outputs": [
    {
     "name": "stdout",
     "output_type": "stream",
     "text": [
      "Module for R statistics toolbox, R rstudio version 3.6.3 including rstudio loaded\n"
     ]
    }
   ],
   "source": [
    "!module load R"
   ]
  },
  {
   "cell_type": "code",
   "execution_count": 6,
   "metadata": {},
   "outputs": [
    {
     "name": "stdout",
     "output_type": "stream",
     "text": [
      "/sw/data/python/miniconda/OS_42.3/3.7/bin/R\n"
     ]
    }
   ],
   "source": [
    "!which R"
   ]
  },
  {
   "cell_type": "code",
   "execution_count": 7,
   "metadata": {},
   "outputs": [
    {
     "name": "stdout",
     "output_type": "stream",
     "text": [
      "Module for R statistics toolbox, R rstudio version 3.6.3 including rstudio loaded\n",
      "/sw/viz/R/OS_42.3/R-3.6.3/bin/R\n"
     ]
    }
   ],
   "source": [
    "!module load R && which R"
   ]
  }
 ],
 "metadata": {
  "kernelspec": {
   "display_name": "Python 3",
   "language": "python",
   "name": "python3"
  },
  "language_info": {
   "codemirror_mode": {
    "name": "ipython",
    "version": 3
   },
   "file_extension": ".py",
   "mimetype": "text/x-python",
   "name": "python",
   "nbconvert_exporter": "python",
   "pygments_lexer": "ipython3",
   "version": "3.7.3"
  }
 },
 "nbformat": 4,
 "nbformat_minor": 4
}
