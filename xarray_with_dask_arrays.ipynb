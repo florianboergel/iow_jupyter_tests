{
 "cells": [
  {
   "cell_type": "markdown",
   "metadata": {},
   "source": [
    "### Dask + XArray\n",
    "Xarray can automatically wrap its data in dask arrays. This capability turns xarray into an extremely powerful tool for Big Data earth science. To see this in action, we will download a fairly large dataset to analyze. This file contains 1 year of daily data from the AVISO sea-surface height satellite altimetry dataset."
   ]
  },
  {
   "cell_type": "code",
   "execution_count": 1,
   "metadata": {},
   "outputs": [],
   "source": [
    "import xarray as xr\n",
    "import glob\n",
    "import bottleneck"
   ]
  },
  {
   "cell_type": "code",
   "execution_count": 17,
   "metadata": {},
   "outputs": [
    {
     "data": {
      "text/html": [
       "<table style=\"border: 2px solid white;\">\n",
       "<tr>\n",
       "<td style=\"vertical-align: top; border: 0px solid white\">\n",
       "<h3>Client</h3>\n",
       "<ul>\n",
       "  <li><b>Scheduler: </b>tcp://127.0.0.1:40475\n",
       "  <li><b>Dashboard: </b><a href='http://127.0.0.1:8787/status' target='_blank'>http://127.0.0.1:8787/status</a>\n",
       "</ul>\n",
       "</td>\n",
       "<td style=\"vertical-align: top; border: 0px solid white\">\n",
       "<h3>Cluster</h3>\n",
       "<ul>\n",
       "  <li><b>Workers: </b>1</li>\n",
       "  <li><b>Cores: </b>1</li>\n",
       "  <li><b>Memory: </b>1.08 TB</li>\n",
       "</ul>\n",
       "</td>\n",
       "</tr>\n",
       "</table>"
      ],
      "text/plain": [
       "<Client: scheduler='tcp://127.0.0.1:40475' processes=1 cores=1>"
      ]
     },
     "execution_count": 17,
     "metadata": {},
     "output_type": "execute_result"
    }
   ],
   "source": [
    "from dask.distributed import Client, progress\n",
    "client = Client(threads_per_worker=1, n_workers=1) # Change n_workers = \n",
    "client"
   ]
  },
  {
   "cell_type": "markdown",
   "metadata": {},
   "source": [
    "Let's load the first file as a regular xarray dataset."
   ]
  },
  {
   "cell_type": "code",
   "execution_count": 3,
   "metadata": {},
   "outputs": [
    {
     "data": {
      "text/plain": [
       "<xarray.Dataset>\n",
       "Dimensions:         (nv: 2, st_edges_ocean: 101, st_ocean: 100, sw_edges_ocean: 101, sw_ocean: 100, time: 11, xt_ocean: 91, xu_ocean: 91, yt_ocean: 102, yu_ocean: 102)\n",
       "Coordinates:\n",
       "  * xt_ocean        (xt_ocean) float64 8.12 8.36 8.6 8.84 ... 29.24 29.48 29.72\n",
       "  * yt_ocean        (yt_ocean) float64 53.64 53.76 53.88 ... 65.52 65.64 65.76\n",
       "  * time            (time) object 1850-02-15 00:00:00 ... 1850-12-16 12:00:00\n",
       "  * nv              (nv) float64 1.0 2.0\n",
       "  * xu_ocean        (xu_ocean) float64 8.24 8.48 8.72 8.96 ... 29.36 29.6 29.84\n",
       "  * yu_ocean        (yu_ocean) float64 53.7 53.82 53.94 ... 65.58 65.7 65.82\n",
       "  * st_ocean        (st_ocean) float64 0.25 0.7572 1.315 ... 222.5 225.5 228.5\n",
       "  * st_edges_ocean  (st_edges_ocean) float64 -0.001806 0.5018 ... 227.0 230.0\n",
       "  * sw_ocean        (sw_ocean) float64 0.5036 1.036 1.624 ... 224.0 227.0 230.0\n",
       "  * sw_edges_ocean  (sw_edges_ocean) float64 0.25 0.7572 1.315 ... 228.5 230.0\n",
       "    geolon_t        (yt_ocean, xt_ocean) float32 ...\n",
       "    geolat_t        (yt_ocean, xt_ocean) float32 ...\n",
       "    geolon_c        (yu_ocean, xu_ocean) float32 ...\n",
       "    geolat_c        (yu_ocean, xu_ocean) float32 ...\n",
       "Data variables:\n",
       "    area_t          (yt_ocean, xt_ocean) float32 ...\n",
       "    area_u          (yu_ocean, xu_ocean) float32 ...\n",
       "    ht              (yt_ocean, xt_ocean) float32 ...\n",
       "    hu              (yu_ocean, xu_ocean) float32 ...\n",
       "    dzt             (time, st_ocean, yt_ocean, xt_ocean) float32 ...\n",
       "    temp            (time, st_ocean, yt_ocean, xt_ocean) float32 ...\n",
       "    salt            (time, st_ocean, yt_ocean, xt_ocean) float32 ...\n",
       "    u               (time, st_ocean, yu_ocean, xu_ocean) float32 ...\n",
       "    v               (time, st_ocean, yu_ocean, xu_ocean) float32 ...\n",
       "    wrhot           (time, sw_ocean, yt_ocean, xt_ocean) float32 ...\n",
       "    average_T1      (time) datetime64[ns] ...\n",
       "    average_T2      (time) datetime64[ns] ...\n",
       "    average_DT      (time) timedelta64[ns] ...\n",
       "    time_bounds     (time, nv) timedelta64[ns] ...\n",
       "Attributes:\n",
       "    filename:   ocean_day3d.nc\n",
       "    title:      ERGOM-MOM510 8 n.m. Baltic Hiresaff 1850-2009\n",
       "    grid_type:  regular\n",
       "    grid_tile:  N/A"
      ]
     },
     "execution_count": 3,
     "metadata": {},
     "output_type": "execute_result"
    }
   ],
   "source": [
    "ds_first = xr.open_dataset('/silod5/boergel/model_exp/MOM_9nm_hiresaff/v01r03/balt-8nm-brine-v01-r03_1850/ocean_day3d.nc')\n",
    "ds_first"
   ]
  },
  {
   "cell_type": "code",
   "execution_count": 4,
   "metadata": {},
   "outputs": [
    {
     "data": {
      "text/plain": [
       "245.348672"
      ]
     },
     "execution_count": 4,
     "metadata": {},
     "output_type": "execute_result"
    }
   ],
   "source": [
    "ds_first.nbytes / 1e6"
   ]
  },
  {
   "cell_type": "markdown",
   "metadata": {},
   "source": [
    "This one file is about 245 MB. So 50 of them will be nearly 12,250 GB. "
   ]
  },
  {
   "cell_type": "code",
   "execution_count": 5,
   "metadata": {},
   "outputs": [
    {
     "data": {
      "text/plain": [
       "<xarray.Dataset>\n",
       "Dimensions:         (nv: 2, st_edges_ocean: 101, st_ocean: 100, sw_edges_ocean: 101, sw_ocean: 100, time: 599, xt_ocean: 91, xu_ocean: 91, yt_ocean: 102, yu_ocean: 102)\n",
       "Coordinates:\n",
       "  * xt_ocean        (xt_ocean) float64 8.12 8.36 8.6 8.84 ... 29.24 29.48 29.72\n",
       "  * yt_ocean        (yt_ocean) float64 53.64 53.76 53.88 ... 65.52 65.64 65.76\n",
       "  * nv              (nv) float64 1.0 2.0\n",
       "  * xu_ocean        (xu_ocean) float64 8.24 8.48 8.72 8.96 ... 29.36 29.6 29.84\n",
       "  * yu_ocean        (yu_ocean) float64 53.7 53.82 53.94 ... 65.58 65.7 65.82\n",
       "  * st_ocean        (st_ocean) float64 0.25 0.7572 1.315 ... 222.5 225.5 228.5\n",
       "  * st_edges_ocean  (st_edges_ocean) float64 -0.001806 0.5018 ... 227.0 230.0\n",
       "  * sw_ocean        (sw_ocean) float64 0.5036 1.036 1.624 ... 224.0 227.0 230.0\n",
       "  * sw_edges_ocean  (sw_edges_ocean) float64 0.25 0.7572 1.315 ... 228.5 230.0\n",
       "    geolon_t        (yt_ocean, xt_ocean) float32 8.12 8.36 8.6 ... nan nan nan\n",
       "    geolat_t        (yt_ocean, xt_ocean) float32 53.64 53.64 53.64 ... nan nan\n",
       "    geolon_c        (yu_ocean, xu_ocean) float32 8.24 8.48 8.72 ... nan nan nan\n",
       "    geolat_c        (yu_ocean, xu_ocean) float32 53.7 53.7 53.7 ... nan nan nan\n",
       "  * time            (time) object 1850-02-15 00:00:00 ... 1899-12-16 12:00:00\n",
       "Data variables:\n",
       "    area_t          (time, yt_ocean, xt_ocean) float32 dask.array<shape=(599, 102, 91), chunksize=(11, 102, 91)>\n",
       "    area_u          (time, yu_ocean, xu_ocean) float32 dask.array<shape=(599, 102, 91), chunksize=(11, 102, 91)>\n",
       "    ht              (time, yt_ocean, xt_ocean) float32 dask.array<shape=(599, 102, 91), chunksize=(11, 102, 91)>\n",
       "    hu              (time, yu_ocean, xu_ocean) float32 dask.array<shape=(599, 102, 91), chunksize=(11, 102, 91)>\n",
       "    dzt             (time, st_ocean, yt_ocean, xt_ocean) float32 dask.array<shape=(599, 100, 102, 91), chunksize=(11, 100, 102, 91)>\n",
       "    temp            (time, st_ocean, yt_ocean, xt_ocean) float32 dask.array<shape=(599, 100, 102, 91), chunksize=(11, 100, 102, 91)>\n",
       "    salt            (time, st_ocean, yt_ocean, xt_ocean) float32 dask.array<shape=(599, 100, 102, 91), chunksize=(11, 100, 102, 91)>\n",
       "    u               (time, st_ocean, yu_ocean, xu_ocean) float32 dask.array<shape=(599, 100, 102, 91), chunksize=(11, 100, 102, 91)>\n",
       "    v               (time, st_ocean, yu_ocean, xu_ocean) float32 dask.array<shape=(599, 100, 102, 91), chunksize=(11, 100, 102, 91)>\n",
       "    wrhot           (time, sw_ocean, yt_ocean, xt_ocean) float32 dask.array<shape=(599, 100, 102, 91), chunksize=(11, 100, 102, 91)>\n",
       "    average_T1      (time) datetime64[ns] dask.array<shape=(599,), chunksize=(11,)>\n",
       "    average_T2      (time) datetime64[ns] dask.array<shape=(599,), chunksize=(11,)>\n",
       "    average_DT      (time) timedelta64[ns] dask.array<shape=(599,), chunksize=(11,)>\n",
       "    time_bounds     (time, nv) timedelta64[ns] dask.array<shape=(599, 2), chunksize=(11, 2)>\n",
       "Attributes:\n",
       "    filename:   ocean_day3d.nc\n",
       "    title:      ERGOM-MOM510 8 n.m. Baltic Hiresaff 1850-2009\n",
       "    grid_type:  regular\n",
       "    grid_tile:  N/A"
      ]
     },
     "execution_count": 5,
     "metadata": {},
     "output_type": "execute_result"
    }
   ],
   "source": [
    "files  = glob.glob(\"/silod5/boergel/model_exp/MOM_9nm_hiresaff/v01r03/balt-8nm-brine-v01-r03_18*/ocean_day3d.nc\")\n",
    "ds = xr.open_mfdataset(files, concat_dim=\"time\")\n",
    "ds"
   ]
  },
  {
   "cell_type": "markdown",
   "metadata": {},
   "source": [
    "Note that the values are not displayed, since that would trigger computation."
   ]
  },
  {
   "cell_type": "code",
   "execution_count": 6,
   "metadata": {},
   "outputs": [
    {
     "data": {
      "text/plain": [
       "<xarray.DataArray 'salt' (time: 599, st_ocean: 100, yt_ocean: 102, xt_ocean: 91)>\n",
       "dask.array<shape=(599, 100, 102, 91), dtype=float32, chunksize=(11, 100, 102, 91)>\n",
       "Coordinates:\n",
       "  * xt_ocean  (xt_ocean) float64 8.12 8.36 8.6 8.84 ... 29.0 29.24 29.48 29.72\n",
       "  * yt_ocean  (yt_ocean) float64 53.64 53.76 53.88 54.0 ... 65.52 65.64 65.76\n",
       "  * st_ocean  (st_ocean) float64 0.25 0.7572 1.315 1.934 ... 222.5 225.5 228.5\n",
       "    geolon_t  (yt_ocean, xt_ocean) float32 8.12 8.36 8.6 8.84 ... nan nan nan\n",
       "    geolat_t  (yt_ocean, xt_ocean) float32 53.64 53.64 53.64 ... nan nan nan\n",
       "  * time      (time) object 1850-02-15 00:00:00 ... 1899-12-16 12:00:00\n",
       "Attributes:\n",
       "    long_name:      Practical Salinity\n",
       "    units:          psu\n",
       "    valid_range:    [-10. 100.]\n",
       "    cell_methods:   time: mean\n",
       "    time_avg_info:  average_T1,average_T2,average_DT\n",
       "    standard_name:  sea_water_salinity"
      ]
     },
     "execution_count": 6,
     "metadata": {},
     "output_type": "execute_result"
    }
   ],
   "source": [
    "salt = ds.salt\n",
    "salt"
   ]
  },
  {
   "cell_type": "code",
   "execution_count": 7,
   "metadata": {},
   "outputs": [
    {
     "data": {
      "text/plain": [
       "<matplotlib.collections.QuadMesh at 0x7f230c3264e0>"
      ]
     },
     "execution_count": 7,
     "metadata": {},
     "output_type": "execute_result"
    }
   ],
   "source": [
    "salt.isel(time=1, st_ocean=1).plot()"
   ]
  },
  {
   "cell_type": "code",
   "execution_count": 18,
   "metadata": {},
   "outputs": [
    {
     "name": "stdout",
     "output_type": "stream",
     "text": [
      "CPU times: user 527 ms, sys: 29.4 ms, total: 556 ms\n",
      "Wall time: 12.9 s\n"
     ]
    },
    {
     "data": {
      "text/plain": [
       "<xarray.DataArray 'salt' ()>\n",
       "array(15.656407, dtype=float32)"
      ]
     },
     "execution_count": 18,
     "metadata": {},
     "output_type": "execute_result"
    }
   ],
   "source": [
    "salt_mean = salt.mean()\n",
    "%time salt_mean.load()"
   ]
  },
  {
   "cell_type": "code",
   "execution_count": 16,
   "metadata": {},
   "outputs": [
    {
     "data": {
      "text/plain": [
       "<xarray.DataArray 'salt' ()>\n",
       "array(15.656407, dtype=float32)"
      ]
     },
     "execution_count": 16,
     "metadata": {},
     "output_type": "execute_result"
    }
   ],
   "source": [
    "salt_mean"
   ]
  },
  {
   "cell_type": "markdown",
   "metadata": {},
   "source": [
    "Accessing the underlying array of data is done via the data property. Here we can see that we have a Dask array. If this array were to be backed by a NumPy array, this property would point to the actual values in the array."
   ]
  },
  {
   "cell_type": "code",
   "execution_count": 1,
   "metadata": {},
   "outputs": [
    {
     "ename": "NameError",
     "evalue": "name 'client' is not defined",
     "output_type": "error",
     "traceback": [
      "\u001b[0;31m---------------------------------------------------------------------------\u001b[0m",
      "\u001b[0;31mNameError\u001b[0m                                 Traceback (most recent call last)",
      "\u001b[0;32m<ipython-input-1-1ef8b845d8fa>\u001b[0m in \u001b[0;36m<module>\u001b[0;34m\u001b[0m\n\u001b[0;32m----> 1\u001b[0;31m \u001b[0mclient\u001b[0m\u001b[0;34m.\u001b[0m\u001b[0mclose\u001b[0m\u001b[0;34m(\u001b[0m\u001b[0;34m)\u001b[0m\u001b[0;34m\u001b[0m\u001b[0;34m\u001b[0m\u001b[0m\n\u001b[0m",
      "\u001b[0;31mNameError\u001b[0m: name 'client' is not defined"
     ]
    }
   ],
   "source": [
    "client.close()"
   ]
  }
 ],
 "metadata": {
  "kernelspec": {
   "display_name": "Python 3",
   "language": "python",
   "name": "python3"
  },
  "language_info": {
   "codemirror_mode": {
    "name": "ipython",
    "version": 3
   },
   "file_extension": ".py",
   "mimetype": "text/x-python",
   "name": "python",
   "nbconvert_exporter": "python",
   "pygments_lexer": "ipython3",
   "version": "3.7.3"
  }
 },
 "nbformat": 4,
 "nbformat_minor": 4
}
